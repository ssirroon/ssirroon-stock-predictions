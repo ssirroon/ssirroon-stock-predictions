{
 "cells": [
  {
   "cell_type": "code",
   "execution_count": 1,
   "id": "051c780e-eadd-4083-9645-64b2f9916f92",
   "metadata": {},
   "outputs": [],
   "source": [
    "%load_ext autoreload\n",
    "%autoreload 2"
   ]
  },
  {
   "cell_type": "code",
   "execution_count": null,
   "id": "2916ea44-b154-454e-ae22-215d654e693f",
   "metadata": {},
   "outputs": [],
   "source": []
  },
  {
   "cell_type": "code",
   "execution_count": 11,
   "id": "ff37bfc8-42ea-4944-87ac-edfb7152aa89",
   "metadata": {},
   "outputs": [
    {
     "data": {
      "text/plain": [
       "Account({   'account_blocked': False,\n",
       "    'account_number': 'PA3ZS9KEZ0A3',\n",
       "    'accrued_fees': '0',\n",
       "    'buying_power': '200000',\n",
       "    'cash': '100000',\n",
       "    'created_at': '2022-03-21T19:31:14.722653Z',\n",
       "    'crypto_status': 'ACTIVE',\n",
       "    'currency': 'USD',\n",
       "    'daytrade_count': 0,\n",
       "    'daytrading_buying_power': '0',\n",
       "    'equity': '100000',\n",
       "    'id': '9d7d0619-f78e-4591-b918-811d45e0b45f',\n",
       "    'initial_margin': '0',\n",
       "    'last_equity': '100000',\n",
       "    'last_maintenance_margin': '0',\n",
       "    'long_market_value': '0',\n",
       "    'maintenance_margin': '0',\n",
       "    'multiplier': '2',\n",
       "    'non_marginable_buying_power': '100000',\n",
       "    'pattern_day_trader': False,\n",
       "    'pending_transfer_in': '0',\n",
       "    'portfolio_value': '100000',\n",
       "    'regt_buying_power': '200000',\n",
       "    'short_market_value': '0',\n",
       "    'shorting_enabled': True,\n",
       "    'sma': '100000',\n",
       "    'status': 'ACTIVE',\n",
       "    'trade_suspended_by_user': False,\n",
       "    'trading_blocked': False,\n",
       "    'transfers_blocked': False})"
      ]
     },
     "execution_count": 11,
     "metadata": {},
     "output_type": "execute_result"
    }
   ],
   "source": [
    "from stock_info.pull_stock_info import get_alpaca_account\n",
    "get_alpaca_account()"
   ]
  },
  {
   "cell_type": "code",
   "execution_count": 9,
   "id": "96962dab-b6b0-4b51-ad71-a5a8bf0bec03",
   "metadata": {},
   "outputs": [
    {
     "name": "stdout",
     "output_type": "stream",
     "text": [
      "2021-09-01 00:00:00\n",
      "2021-10-11 00:00:00\n"
     ]
    }
   ],
   "source": [
    "from datetime import datetime, timedelta\n",
    "from stock_info.pull_stock_info import get_stock_info\n",
    "get_stock_info('TSLA', \"2021-09-01\", 40)"
   ]
  },
  {
   "cell_type": "code",
   "execution_count": null,
   "id": "5e0417b5-7b99-4662-9537-dbbf7f3195f8",
   "metadata": {},
   "outputs": [],
   "source": []
  },
  {
   "cell_type": "code",
   "execution_count": null,
   "id": "8cb86d42-a4c0-417f-a409-ab95a85b6d62",
   "metadata": {},
   "outputs": [],
   "source": []
  }
 ],
 "metadata": {
  "kernelspec": {
   "display_name": "Python 3 (ipykernel)",
   "language": "python",
   "name": "python3"
  },
  "language_info": {
   "codemirror_mode": {
    "name": "ipython",
    "version": 3
   },
   "file_extension": ".py",
   "mimetype": "text/x-python",
   "name": "python",
   "nbconvert_exporter": "python",
   "pygments_lexer": "ipython3",
   "version": "3.9.7"
  }
 },
 "nbformat": 4,
 "nbformat_minor": 5
}
